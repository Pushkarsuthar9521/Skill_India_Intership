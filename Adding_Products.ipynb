{
  "nbformat": 4,
  "nbformat_minor": 0,
  "metadata": {
    "colab": {
      "name": "Adding_Products.ipynb",
      "provenance": []
    },
    "kernelspec": {
      "name": "python3",
      "display_name": "Python 3"
    },
    "language_info": {
      "name": "python"
    }
  },
  "cells": [
    {
      "cell_type": "code",
      "metadata": {
        "colab": {
          "base_uri": "https://localhost:8080/",
          "height": 229
        },
        "id": "JWVo1izeYDnU",
        "outputId": "ed421fca-54a4-4abb-c3c8-321dc9454897"
      },
      "source": [
        "import json \n",
        "\n",
        "fd = open(\"Available.json\",'r')\n",
        "r = fd.read()\n",
        "fd.close()\n",
        "records = json.loads(r)\n",
        "\n",
        "prod_id = str(input(\"Enter product id : \"))\n",
        "\n",
        "if prod_id in records.keys():\n",
        "  print(\"Product is already registered with this id\")\n",
        "  print(\"If you want to update product enter 1 else enter 0\")\n",
        "  ch = int(input(\"Enter your choise ; \"))\n",
        "\n",
        "  if(ch==1):\n",
        "    print(\"Previous record of the product is =>\")\n",
        "    print(records[prod_id])\n",
        "    previous_quant=records[prod_id]['qn']\n",
        "    qn = int(input(\"Enter new quantity for the product : \"))\n",
        "    records[prod_id]['qn'] =previous_quant + qn\n",
        "\n",
        "else:\n",
        "  name = str(input(\"Enter name : \"))\n",
        "  pr = int(input(\"Enter price : \"))\n",
        "  qn = int(input(\"Enter quantity : \"))\n",
        "  cat =str(input(\"Enter the category : \"))\n",
        "  records[prod_id] = {'name': name, 'pr': pr, 'qn': qn, 'category': cat}\n",
        "\n",
        "js = json.dumps(records)\n",
        "fd = open(\"Available.json\",'w')\n",
        "fd.write(js)\n",
        "fd.close()\n"
      ],
      "execution_count": 1,
      "outputs": [
        {
          "output_type": "error",
          "ename": "FileNotFoundError",
          "evalue": "ignored",
          "traceback": [
            "\u001b[0;31m---------------------------------------------------------------------------\u001b[0m",
            "\u001b[0;31mFileNotFoundError\u001b[0m                         Traceback (most recent call last)",
            "\u001b[0;32m<ipython-input-1-708ebacf1838>\u001b[0m in \u001b[0;36m<module>\u001b[0;34m()\u001b[0m\n\u001b[1;32m      1\u001b[0m \u001b[0;32mimport\u001b[0m \u001b[0mjson\u001b[0m\u001b[0;34m\u001b[0m\u001b[0;34m\u001b[0m\u001b[0m\n\u001b[1;32m      2\u001b[0m \u001b[0;34m\u001b[0m\u001b[0m\n\u001b[0;32m----> 3\u001b[0;31m \u001b[0mfd\u001b[0m \u001b[0;34m=\u001b[0m \u001b[0mopen\u001b[0m\u001b[0;34m(\u001b[0m\u001b[0;34m\"Available.json\"\u001b[0m\u001b[0;34m,\u001b[0m\u001b[0;34m'r'\u001b[0m\u001b[0;34m)\u001b[0m\u001b[0;34m\u001b[0m\u001b[0;34m\u001b[0m\u001b[0m\n\u001b[0m\u001b[1;32m      4\u001b[0m \u001b[0mr\u001b[0m \u001b[0;34m=\u001b[0m \u001b[0mfd\u001b[0m\u001b[0;34m.\u001b[0m\u001b[0mread\u001b[0m\u001b[0;34m(\u001b[0m\u001b[0;34m)\u001b[0m\u001b[0;34m\u001b[0m\u001b[0;34m\u001b[0m\u001b[0m\n\u001b[1;32m      5\u001b[0m \u001b[0mfd\u001b[0m\u001b[0;34m.\u001b[0m\u001b[0mclose\u001b[0m\u001b[0;34m(\u001b[0m\u001b[0;34m)\u001b[0m\u001b[0;34m\u001b[0m\u001b[0;34m\u001b[0m\u001b[0m\n",
            "\u001b[0;31mFileNotFoundError\u001b[0m: [Errno 2] No such file or directory: 'Available.json'"
          ]
        }
      ]
    }
  ]
}